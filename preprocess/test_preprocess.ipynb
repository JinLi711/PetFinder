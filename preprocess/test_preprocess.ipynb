{
 "cells": [
  {
   "cell_type": "code",
   "execution_count": 156,
   "metadata": {},
   "outputs": [
    {
     "data": {
      "text/plain": [
       "<module 'preprocess' from '/Users/jinli/Projects/PetFinder/preprocess/preprocess.py'>"
      ]
     },
     "execution_count": 156,
     "metadata": {},
     "output_type": "execute_result"
    }
   ],
   "source": [
    "import importlib\n",
    "import pandas as pd\n",
    "pd.set_option('display.max_columns', 100)\n",
    "import numpy as np\n",
    "\n",
    "import sys\n",
    "sys.path.insert(0, '../visualization')\n",
    "\n",
    "import reduce_memory as rm\n",
    "importlib.reload(rm)\n",
    "import visualization_funcs as vf\n",
    "importlib.reload(vf)\n",
    "import preprocess as pre\n",
    "importlib.reload(pre)"
   ]
  },
  {
   "cell_type": "code",
   "execution_count": 2,
   "metadata": {
    "collapsed": true
   },
   "outputs": [],
   "source": [
    "# paths\n",
    "start_path = '../data/'\n",
    "data_path = start_path + 'train.csv'\n",
    "test_path = start_path + 'test/test.csv'"
   ]
  },
  {
   "cell_type": "code",
   "execution_count": 3,
   "metadata": {
    "collapsed": true
   },
   "outputs": [],
   "source": [
    "data_df = pd.read_csv(data_path)"
   ]
  },
  {
   "cell_type": "code",
   "execution_count": 4,
   "metadata": {},
   "outputs": [
    {
     "data": {
      "text/html": [
       "<div>\n",
       "<style scoped>\n",
       "    .dataframe tbody tr th:only-of-type {\n",
       "        vertical-align: middle;\n",
       "    }\n",
       "\n",
       "    .dataframe tbody tr th {\n",
       "        vertical-align: top;\n",
       "    }\n",
       "\n",
       "    .dataframe thead th {\n",
       "        text-align: right;\n",
       "    }\n",
       "</style>\n",
       "<table border=\"1\" class=\"dataframe\">\n",
       "  <thead>\n",
       "    <tr style=\"text-align: right;\">\n",
       "      <th></th>\n",
       "      <th>Type</th>\n",
       "      <th>Name</th>\n",
       "      <th>Age</th>\n",
       "      <th>Breed1</th>\n",
       "      <th>Breed2</th>\n",
       "      <th>Gender</th>\n",
       "      <th>Color1</th>\n",
       "      <th>Color2</th>\n",
       "      <th>Color3</th>\n",
       "      <th>MaturitySize</th>\n",
       "      <th>FurLength</th>\n",
       "      <th>Vaccinated</th>\n",
       "      <th>Dewormed</th>\n",
       "      <th>Sterilized</th>\n",
       "      <th>Health</th>\n",
       "      <th>Quantity</th>\n",
       "      <th>Fee</th>\n",
       "      <th>State</th>\n",
       "      <th>RescuerID</th>\n",
       "      <th>VideoAmt</th>\n",
       "      <th>Description</th>\n",
       "      <th>PetID</th>\n",
       "      <th>PhotoAmt</th>\n",
       "      <th>AdoptionSpeed</th>\n",
       "    </tr>\n",
       "  </thead>\n",
       "  <tbody>\n",
       "    <tr>\n",
       "      <th>0</th>\n",
       "      <td>Cat</td>\n",
       "      <td>Nibble</td>\n",
       "      <td>3</td>\n",
       "      <td>Tabby</td>\n",
       "      <td>0</td>\n",
       "      <td>Male</td>\n",
       "      <td>Black</td>\n",
       "      <td>White</td>\n",
       "      <td>0</td>\n",
       "      <td>Small</td>\n",
       "      <td>Short</td>\n",
       "      <td>No</td>\n",
       "      <td>No</td>\n",
       "      <td>No</td>\n",
       "      <td>Healthy</td>\n",
       "      <td>1</td>\n",
       "      <td>100</td>\n",
       "      <td>Selangor</td>\n",
       "      <td>8480853f516546f6cf33aa88cd76c379</td>\n",
       "      <td>0</td>\n",
       "      <td>Nibble is a 3+ month old ball of cuteness. He ...</td>\n",
       "      <td>86e1089a3</td>\n",
       "      <td>1.0</td>\n",
       "      <td>2</td>\n",
       "    </tr>\n",
       "    <tr>\n",
       "      <th>1</th>\n",
       "      <td>Cat</td>\n",
       "      <td>No Name Yet</td>\n",
       "      <td>1</td>\n",
       "      <td>Domestic Medium Hair</td>\n",
       "      <td>0</td>\n",
       "      <td>Male</td>\n",
       "      <td>Black</td>\n",
       "      <td>Brown</td>\n",
       "      <td>0</td>\n",
       "      <td>Medium</td>\n",
       "      <td>Medium</td>\n",
       "      <td>Not Sure</td>\n",
       "      <td>Not Sure</td>\n",
       "      <td>Not Sure</td>\n",
       "      <td>Healthy</td>\n",
       "      <td>1</td>\n",
       "      <td>0</td>\n",
       "      <td>Kuala Lumpur</td>\n",
       "      <td>3082c7125d8fb66f7dd4bff4192c8b14</td>\n",
       "      <td>0</td>\n",
       "      <td>I just found it alone yesterday near my apartm...</td>\n",
       "      <td>6296e909a</td>\n",
       "      <td>2.0</td>\n",
       "      <td>0</td>\n",
       "    </tr>\n",
       "    <tr>\n",
       "      <th>2</th>\n",
       "      <td>Dog</td>\n",
       "      <td>Brisco</td>\n",
       "      <td>1</td>\n",
       "      <td>Mixed Breed</td>\n",
       "      <td>0</td>\n",
       "      <td>Male</td>\n",
       "      <td>Brown</td>\n",
       "      <td>White</td>\n",
       "      <td>0</td>\n",
       "      <td>Medium</td>\n",
       "      <td>Medium</td>\n",
       "      <td>Yes</td>\n",
       "      <td>Yes</td>\n",
       "      <td>No</td>\n",
       "      <td>Healthy</td>\n",
       "      <td>1</td>\n",
       "      <td>0</td>\n",
       "      <td>Selangor</td>\n",
       "      <td>fa90fa5b1ee11c86938398b60abc32cb</td>\n",
       "      <td>0</td>\n",
       "      <td>Their pregnant mother was dumped by her irresp...</td>\n",
       "      <td>3422e4906</td>\n",
       "      <td>7.0</td>\n",
       "      <td>3</td>\n",
       "    </tr>\n",
       "    <tr>\n",
       "      <th>3</th>\n",
       "      <td>Dog</td>\n",
       "      <td>Miko</td>\n",
       "      <td>4</td>\n",
       "      <td>Mixed Breed</td>\n",
       "      <td>0</td>\n",
       "      <td>Female</td>\n",
       "      <td>Black</td>\n",
       "      <td>Brown</td>\n",
       "      <td>0</td>\n",
       "      <td>Medium</td>\n",
       "      <td>Short</td>\n",
       "      <td>Yes</td>\n",
       "      <td>Yes</td>\n",
       "      <td>No</td>\n",
       "      <td>Healthy</td>\n",
       "      <td>1</td>\n",
       "      <td>150</td>\n",
       "      <td>Kuala Lumpur</td>\n",
       "      <td>9238e4f44c71a75282e62f7136c6b240</td>\n",
       "      <td>0</td>\n",
       "      <td>Good guard dog, very alert, active, obedience ...</td>\n",
       "      <td>5842f1ff5</td>\n",
       "      <td>8.0</td>\n",
       "      <td>2</td>\n",
       "    </tr>\n",
       "    <tr>\n",
       "      <th>4</th>\n",
       "      <td>Dog</td>\n",
       "      <td>Hunter</td>\n",
       "      <td>1</td>\n",
       "      <td>Mixed Breed</td>\n",
       "      <td>0</td>\n",
       "      <td>Male</td>\n",
       "      <td>Black</td>\n",
       "      <td>0</td>\n",
       "      <td>0</td>\n",
       "      <td>Medium</td>\n",
       "      <td>Short</td>\n",
       "      <td>No</td>\n",
       "      <td>No</td>\n",
       "      <td>No</td>\n",
       "      <td>Healthy</td>\n",
       "      <td>1</td>\n",
       "      <td>0</td>\n",
       "      <td>Selangor</td>\n",
       "      <td>95481e953f8aed9ec3d16fc4509537e8</td>\n",
       "      <td>0</td>\n",
       "      <td>This handsome yet cute boy is up for adoption....</td>\n",
       "      <td>850a43f90</td>\n",
       "      <td>3.0</td>\n",
       "      <td>2</td>\n",
       "    </tr>\n",
       "  </tbody>\n",
       "</table>\n",
       "</div>"
      ],
      "text/plain": [
       "  Type         Name  Age                Breed1 Breed2  Gender Color1 Color2  \\\n",
       "0  Cat       Nibble    3                 Tabby      0    Male  Black  White   \n",
       "1  Cat  No Name Yet    1  Domestic Medium Hair      0    Male  Black  Brown   \n",
       "2  Dog       Brisco    1           Mixed Breed      0    Male  Brown  White   \n",
       "3  Dog         Miko    4           Mixed Breed      0  Female  Black  Brown   \n",
       "4  Dog       Hunter    1           Mixed Breed      0    Male  Black      0   \n",
       "\n",
       "  Color3 MaturitySize FurLength Vaccinated  Dewormed Sterilized   Health  \\\n",
       "0      0        Small     Short         No        No         No  Healthy   \n",
       "1      0       Medium    Medium   Not Sure  Not Sure   Not Sure  Healthy   \n",
       "2      0       Medium    Medium        Yes       Yes         No  Healthy   \n",
       "3      0       Medium     Short        Yes       Yes         No  Healthy   \n",
       "4      0       Medium     Short         No        No         No  Healthy   \n",
       "\n",
       "   Quantity  Fee         State                         RescuerID  VideoAmt  \\\n",
       "0         1  100      Selangor  8480853f516546f6cf33aa88cd76c379         0   \n",
       "1         1    0  Kuala Lumpur  3082c7125d8fb66f7dd4bff4192c8b14         0   \n",
       "2         1    0      Selangor  fa90fa5b1ee11c86938398b60abc32cb         0   \n",
       "3         1  150  Kuala Lumpur  9238e4f44c71a75282e62f7136c6b240         0   \n",
       "4         1    0      Selangor  95481e953f8aed9ec3d16fc4509537e8         0   \n",
       "\n",
       "                                         Description      PetID  PhotoAmt  \\\n",
       "0  Nibble is a 3+ month old ball of cuteness. He ...  86e1089a3       1.0   \n",
       "1  I just found it alone yesterday near my apartm...  6296e909a       2.0   \n",
       "2  Their pregnant mother was dumped by her irresp...  3422e4906       7.0   \n",
       "3  Good guard dog, very alert, active, obedience ...  5842f1ff5       8.0   \n",
       "4  This handsome yet cute boy is up for adoption....  850a43f90       3.0   \n",
       "\n",
       "   AdoptionSpeed  \n",
       "0              2  \n",
       "1              0  \n",
       "2              3  \n",
       "3              2  \n",
       "4              2  "
      ]
     },
     "execution_count": 4,
     "metadata": {},
     "output_type": "execute_result"
    }
   ],
   "source": [
    "data_df_cat = vf.map_num_to_cat(data_df)\n",
    "data_df_cat.head()"
   ]
  },
  {
   "cell_type": "code",
   "execution_count": 5,
   "metadata": {},
   "outputs": [
    {
     "name": "stdout",
     "output_type": "stream",
     "text": [
      "<class 'pandas.core.frame.DataFrame'>\n",
      "RangeIndex: 14993 entries, 0 to 14992\n",
      "Data columns (total 24 columns):\n",
      "Type             14993 non-null category\n",
      "Name             13736 non-null object\n",
      "Age              14993 non-null int64\n",
      "Breed1           14993 non-null category\n",
      "Breed2           14993 non-null category\n",
      "Gender           14993 non-null category\n",
      "Color1           14993 non-null category\n",
      "Color2           14993 non-null category\n",
      "Color3           14993 non-null category\n",
      "MaturitySize     14993 non-null category\n",
      "FurLength        14993 non-null category\n",
      "Vaccinated       14993 non-null category\n",
      "Dewormed         14993 non-null category\n",
      "Sterilized       14993 non-null category\n",
      "Health           14993 non-null category\n",
      "Quantity         14993 non-null int64\n",
      "Fee              14993 non-null int64\n",
      "State            14993 non-null category\n",
      "RescuerID        14993 non-null object\n",
      "VideoAmt         14993 non-null int64\n",
      "Description      14981 non-null object\n",
      "PetID            14993 non-null object\n",
      "PhotoAmt         14993 non-null float64\n",
      "AdoptionSpeed    14993 non-null int64\n",
      "dtypes: category(14), float64(1), int64(5), object(4)\n",
      "memory usage: 1.4+ MB\n"
     ]
    }
   ],
   "source": [
    "data_df_cat.info()"
   ]
  },
  {
   "cell_type": "markdown",
   "metadata": {
    "heading_collapsed": true
   },
   "source": [
    "# Reducing Memory"
   ]
  },
  {
   "cell_type": "code",
   "execution_count": 6,
   "metadata": {
    "hidden": true
   },
   "outputs": [
    {
     "name": "stdout",
     "output_type": "stream",
     "text": [
      "\n",
      "downcasting integers for: ['Age', 'Quantity', 'Fee', 'VideoAmt', 'AdoptionSpeed'] \n",
      "\n",
      "reduced memory usage for:   Age             from     0.12 to     0.03\n",
      "reduced memory usage for:   Quantity        from     0.12 to     0.02\n",
      "reduced memory usage for:   Fee             from     0.12 to     0.03\n",
      "reduced memory usage for:   VideoAmt        from     0.12 to     0.02\n",
      "reduced memory usage for:   AdoptionSpeed   from     0.12 to     0.02\n"
     ]
    }
   ],
   "source": [
    "condensed = rm.downcast_df_int_columns(data_df_cat)"
   ]
  },
  {
   "cell_type": "code",
   "execution_count": 7,
   "metadata": {
    "hidden": true
   },
   "outputs": [
    {
     "name": "stdout",
     "output_type": "stream",
     "text": [
      "<class 'pandas.core.frame.DataFrame'>\n",
      "RangeIndex: 14993 entries, 0 to 14992\n",
      "Data columns (total 24 columns):\n",
      "Type             14993 non-null category\n",
      "Name             13736 non-null object\n",
      "Age              14993 non-null int16\n",
      "Breed1           14993 non-null category\n",
      "Breed2           14993 non-null category\n",
      "Gender           14993 non-null category\n",
      "Color1           14993 non-null category\n",
      "Color2           14993 non-null category\n",
      "Color3           14993 non-null category\n",
      "MaturitySize     14993 non-null category\n",
      "FurLength        14993 non-null category\n",
      "Vaccinated       14993 non-null category\n",
      "Dewormed         14993 non-null category\n",
      "Sterilized       14993 non-null category\n",
      "Health           14993 non-null category\n",
      "Quantity         14993 non-null int8\n",
      "Fee              14993 non-null int16\n",
      "State            14993 non-null category\n",
      "RescuerID        14993 non-null object\n",
      "VideoAmt         14993 non-null int8\n",
      "Description      14981 non-null object\n",
      "PetID            14993 non-null object\n",
      "PhotoAmt         14993 non-null float64\n",
      "AdoptionSpeed    14993 non-null int8\n",
      "dtypes: category(14), float64(1), int16(2), int8(3), object(4)\n",
      "memory usage: 937.5+ KB\n"
     ]
    }
   ],
   "source": [
    "condensed.info()"
   ]
  },
  {
   "cell_type": "markdown",
   "metadata": {
    "heading_collapsed": true
   },
   "source": [
    "# Get the Data"
   ]
  },
  {
   "cell_type": "code",
   "execution_count": 8,
   "metadata": {
    "hidden": true
   },
   "outputs": [
    {
     "name": "stdout",
     "output_type": "stream",
     "text": [
      "\n",
      "downcasting integers for: ['Age', 'Quantity', 'Fee', 'VideoAmt', 'AdoptionSpeed'] \n",
      "\n",
      "reduced memory usage for:   Age             from     0.12 to     0.03\n",
      "reduced memory usage for:   Quantity        from     0.12 to     0.02\n",
      "reduced memory usage for:   Fee             from     0.12 to     0.03\n",
      "reduced memory usage for:   VideoAmt        from     0.12 to     0.02\n",
      "reduced memory usage for:   AdoptionSpeed   from     0.12 to     0.02\n",
      "\n",
      "downcasting integers for: ['Age', 'Quantity', 'Fee', 'VideoAmt'] \n",
      "\n",
      "reduced memory usage for:   Age        from     0.03 to     0.01\n",
      "reduced memory usage for:   Quantity   from     0.03 to      0.0\n",
      "reduced memory usage for:   Fee        from     0.03 to     0.01\n",
      "reduced memory usage for:   VideoAmt   from     0.03 to      0.0\n"
     ]
    }
   ],
   "source": [
    "X_train, X_valid, y_train, y_valid, test = pre.get_data(data_path, test_path, 'AdoptionSpeed')"
   ]
  },
  {
   "cell_type": "code",
   "execution_count": 9,
   "metadata": {
    "hidden": true
   },
   "outputs": [
    {
     "data": {
      "text/html": [
       "<div>\n",
       "<style scoped>\n",
       "    .dataframe tbody tr th:only-of-type {\n",
       "        vertical-align: middle;\n",
       "    }\n",
       "\n",
       "    .dataframe tbody tr th {\n",
       "        vertical-align: top;\n",
       "    }\n",
       "\n",
       "    .dataframe thead th {\n",
       "        text-align: right;\n",
       "    }\n",
       "</style>\n",
       "<table border=\"1\" class=\"dataframe\">\n",
       "  <thead>\n",
       "    <tr style=\"text-align: right;\">\n",
       "      <th></th>\n",
       "      <th>Type</th>\n",
       "      <th>Name</th>\n",
       "      <th>Age</th>\n",
       "      <th>Breed1</th>\n",
       "      <th>Breed2</th>\n",
       "      <th>Gender</th>\n",
       "      <th>Color1</th>\n",
       "      <th>Color2</th>\n",
       "      <th>Color3</th>\n",
       "      <th>MaturitySize</th>\n",
       "      <th>FurLength</th>\n",
       "      <th>Vaccinated</th>\n",
       "      <th>Dewormed</th>\n",
       "      <th>Sterilized</th>\n",
       "      <th>Health</th>\n",
       "      <th>Quantity</th>\n",
       "      <th>Fee</th>\n",
       "      <th>State</th>\n",
       "      <th>RescuerID</th>\n",
       "      <th>VideoAmt</th>\n",
       "      <th>Description</th>\n",
       "      <th>PetID</th>\n",
       "      <th>PhotoAmt</th>\n",
       "    </tr>\n",
       "  </thead>\n",
       "  <tbody>\n",
       "    <tr>\n",
       "      <th>6786</th>\n",
       "      <td>Dog</td>\n",
       "      <td>7 Puppies</td>\n",
       "      <td>1</td>\n",
       "      <td>Mixed Breed</td>\n",
       "      <td>0</td>\n",
       "      <td>Mixed</td>\n",
       "      <td>Brown</td>\n",
       "      <td>White</td>\n",
       "      <td>0</td>\n",
       "      <td>Medium</td>\n",
       "      <td>Medium</td>\n",
       "      <td>No</td>\n",
       "      <td>No</td>\n",
       "      <td>No</td>\n",
       "      <td>Healthy</td>\n",
       "      <td>7</td>\n",
       "      <td>0</td>\n",
       "      <td>Selangor</td>\n",
       "      <td>27decc3f571f54ac92229d5afe57c19a</td>\n",
       "      <td>0</td>\n",
       "      <td>Puppies for adoption- PJ Tropicana~ Adorable p...</td>\n",
       "      <td>2eb4fa594</td>\n",
       "      <td>5.0</td>\n",
       "    </tr>\n",
       "    <tr>\n",
       "      <th>9837</th>\n",
       "      <td>Dog</td>\n",
       "      <td>A88</td>\n",
       "      <td>2</td>\n",
       "      <td>Mixed Breed</td>\n",
       "      <td>Mixed Breed</td>\n",
       "      <td>Female</td>\n",
       "      <td>Brown</td>\n",
       "      <td>White</td>\n",
       "      <td>0</td>\n",
       "      <td>Medium</td>\n",
       "      <td>Medium</td>\n",
       "      <td>No</td>\n",
       "      <td>Yes</td>\n",
       "      <td>No</td>\n",
       "      <td>Healthy</td>\n",
       "      <td>1</td>\n",
       "      <td>0</td>\n",
       "      <td>Selangor</td>\n",
       "      <td>eba983b85e34963999d476ccada91619</td>\n",
       "      <td>0</td>\n",
       "      <td>For Adoption</td>\n",
       "      <td>ce768b010</td>\n",
       "      <td>3.0</td>\n",
       "    </tr>\n",
       "    <tr>\n",
       "      <th>7688</th>\n",
       "      <td>Cat</td>\n",
       "      <td>Baby Kittens</td>\n",
       "      <td>1</td>\n",
       "      <td>Domestic Short Hair</td>\n",
       "      <td>Domestic Short Hair</td>\n",
       "      <td>Mixed</td>\n",
       "      <td>Black</td>\n",
       "      <td>Yellow</td>\n",
       "      <td>White</td>\n",
       "      <td>Medium</td>\n",
       "      <td>Short</td>\n",
       "      <td>No</td>\n",
       "      <td>No</td>\n",
       "      <td>Not Sure</td>\n",
       "      <td>Healthy</td>\n",
       "      <td>3</td>\n",
       "      <td>0</td>\n",
       "      <td>Selangor</td>\n",
       "      <td>ba2ed53835f071deb31da82a384654ce</td>\n",
       "      <td>0</td>\n",
       "      <td>Kittens age approx 2 weeks. Found them nearby ...</td>\n",
       "      <td>3d889fe46</td>\n",
       "      <td>2.0</td>\n",
       "    </tr>\n",
       "    <tr>\n",
       "      <th>6556</th>\n",
       "      <td>Dog</td>\n",
       "      <td>Coco</td>\n",
       "      <td>2</td>\n",
       "      <td>German Shepherd Dog</td>\n",
       "      <td>Mixed Breed</td>\n",
       "      <td>Female</td>\n",
       "      <td>Black</td>\n",
       "      <td>Brown</td>\n",
       "      <td>0</td>\n",
       "      <td>Medium</td>\n",
       "      <td>Medium</td>\n",
       "      <td>No</td>\n",
       "      <td>No</td>\n",
       "      <td>No</td>\n",
       "      <td>Healthy</td>\n",
       "      <td>1</td>\n",
       "      <td>0</td>\n",
       "      <td>Selangor</td>\n",
       "      <td>93135c99bd79564288a9554aef595282</td>\n",
       "      <td>0</td>\n",
       "      <td>The mother of the puppy is a German Shepherd mix</td>\n",
       "      <td>6366dd2f9</td>\n",
       "      <td>1.0</td>\n",
       "    </tr>\n",
       "    <tr>\n",
       "      <th>11322</th>\n",
       "      <td>Dog</td>\n",
       "      <td>Jack</td>\n",
       "      <td>2</td>\n",
       "      <td>Mixed Breed</td>\n",
       "      <td>0</td>\n",
       "      <td>Mixed</td>\n",
       "      <td>Brown</td>\n",
       "      <td>Yellow</td>\n",
       "      <td>White</td>\n",
       "      <td>Small</td>\n",
       "      <td>Short</td>\n",
       "      <td>Not Sure</td>\n",
       "      <td>Not Sure</td>\n",
       "      <td>Not Sure</td>\n",
       "      <td>Healthy</td>\n",
       "      <td>3</td>\n",
       "      <td>0</td>\n",
       "      <td>Perak</td>\n",
       "      <td>39bc0d4d83554ae09a4a3b31b88d9059</td>\n",
       "      <td>1</td>\n",
       "      <td>The puppy Borned outside our house front gate....</td>\n",
       "      <td>14bbc5876</td>\n",
       "      <td>3.0</td>\n",
       "    </tr>\n",
       "  </tbody>\n",
       "</table>\n",
       "</div>"
      ],
      "text/plain": [
       "      Type          Name  Age               Breed1               Breed2  \\\n",
       "6786   Dog     7 Puppies    1          Mixed Breed                    0   \n",
       "9837   Dog           A88    2          Mixed Breed          Mixed Breed   \n",
       "7688   Cat  Baby Kittens    1  Domestic Short Hair  Domestic Short Hair   \n",
       "6556   Dog          Coco    2  German Shepherd Dog          Mixed Breed   \n",
       "11322  Dog          Jack    2          Mixed Breed                    0   \n",
       "\n",
       "       Gender Color1  Color2 Color3 MaturitySize FurLength Vaccinated  \\\n",
       "6786    Mixed  Brown   White      0       Medium    Medium         No   \n",
       "9837   Female  Brown   White      0       Medium    Medium         No   \n",
       "7688    Mixed  Black  Yellow  White       Medium     Short         No   \n",
       "6556   Female  Black   Brown      0       Medium    Medium         No   \n",
       "11322   Mixed  Brown  Yellow  White        Small     Short   Not Sure   \n",
       "\n",
       "       Dewormed Sterilized   Health  Quantity  Fee     State  \\\n",
       "6786         No         No  Healthy         7    0  Selangor   \n",
       "9837        Yes         No  Healthy         1    0  Selangor   \n",
       "7688         No   Not Sure  Healthy         3    0  Selangor   \n",
       "6556         No         No  Healthy         1    0  Selangor   \n",
       "11322  Not Sure   Not Sure  Healthy         3    0     Perak   \n",
       "\n",
       "                              RescuerID  VideoAmt  \\\n",
       "6786   27decc3f571f54ac92229d5afe57c19a         0   \n",
       "9837   eba983b85e34963999d476ccada91619         0   \n",
       "7688   ba2ed53835f071deb31da82a384654ce         0   \n",
       "6556   93135c99bd79564288a9554aef595282         0   \n",
       "11322  39bc0d4d83554ae09a4a3b31b88d9059         1   \n",
       "\n",
       "                                             Description      PetID  PhotoAmt  \n",
       "6786   Puppies for adoption- PJ Tropicana~ Adorable p...  2eb4fa594       5.0  \n",
       "9837                                        For Adoption  ce768b010       3.0  \n",
       "7688   Kittens age approx 2 weeks. Found them nearby ...  3d889fe46       2.0  \n",
       "6556    The mother of the puppy is a German Shepherd mix  6366dd2f9       1.0  \n",
       "11322  The puppy Borned outside our house front gate....  14bbc5876       3.0  "
      ]
     },
     "execution_count": 9,
     "metadata": {},
     "output_type": "execute_result"
    }
   ],
   "source": [
    "X_train.head()"
   ]
  },
  {
   "cell_type": "code",
   "execution_count": 10,
   "metadata": {
    "hidden": true
   },
   "outputs": [
    {
     "data": {
      "text/plain": [
       "6786     3\n",
       "9837     3\n",
       "7688     3\n",
       "6556     2\n",
       "11322    4\n",
       "Name: AdoptionSpeed, dtype: int8"
      ]
     },
     "execution_count": 10,
     "metadata": {},
     "output_type": "execute_result"
    }
   ],
   "source": [
    "y_train.head()"
   ]
  },
  {
   "cell_type": "code",
   "execution_count": 11,
   "metadata": {
    "hidden": true
   },
   "outputs": [
    {
     "name": "stdout",
     "output_type": "stream",
     "text": [
      "58311\n"
     ]
    }
   ],
   "source": [
    "import os, os.path\n",
    "print (len(os.listdir('../data/train_images')))"
   ]
  },
  {
   "cell_type": "code",
   "execution_count": 12,
   "metadata": {
    "collapsed": true,
    "hidden": true
   },
   "outputs": [],
   "source": [
    "# os.listdir('../data/train_images')"
   ]
  },
  {
   "cell_type": "markdown",
   "metadata": {
    "heading_collapsed": true
   },
   "source": [
    "# Text Analysis"
   ]
  },
  {
   "cell_type": "code",
   "execution_count": 13,
   "metadata": {
    "hidden": true
   },
   "outputs": [
    {
     "data": {
      "text/plain": [
       "62.97552191022477"
      ]
     },
     "execution_count": 13,
     "metadata": {},
     "output_type": "execute_result"
    }
   ],
   "source": [
    "vf.avg_post_len(data_df_cat['Description'])"
   ]
  },
  {
   "cell_type": "code",
   "execution_count": 16,
   "metadata": {
    "hidden": true
   },
   "outputs": [],
   "source": [
    "posts = X_train['Description'].apply(lambda x: str(x))\n",
    "\n",
    "# if there are more words than maxlen, cut it off\n",
    "maxlen = round (vf.avg_post_len(posts))\n",
    "\n",
    "max_words = 20000 # maximum number of words in embedding\n",
    "embedding_dim = 100 # dimension of each word vector"
   ]
  },
  {
   "cell_type": "code",
   "execution_count": 17,
   "metadata": {
    "hidden": true
   },
   "outputs": [
    {
     "name": "stdout",
     "output_type": "stream",
     "text": [
      "Found 400000 word vectors.\n"
     ]
    }
   ],
   "source": [
    "embeddings_index = pre.get_GloVe('/Users/jinli/Projects/glove.6B')"
   ]
  },
  {
   "cell_type": "code",
   "execution_count": 18,
   "metadata": {
    "hidden": true
   },
   "outputs": [
    {
     "name": "stderr",
     "output_type": "stream",
     "text": [
      "/Users/jinli/anaconda3/lib/python3.6/site-packages/h5py/__init__.py:34: FutureWarning: Conversion of the second argument of issubdtype from `float` to `np.floating` is deprecated. In future, it will be treated as `np.float64 == np.dtype(float).type`.\n",
      "  from ._conv import register_converters as _register_converters\n",
      "Using TensorFlow backend.\n"
     ]
    },
    {
     "name": "stdout",
     "output_type": "stream",
     "text": [
      "Found 19402 unique tokens.\n"
     ]
    }
   ],
   "source": [
    "word_input, word_index = pre.map_words_to_int(\n",
    "    posts.values,\n",
    "    max_words, \n",
    "    maxlen\n",
    ")"
   ]
  },
  {
   "cell_type": "code",
   "execution_count": 19,
   "metadata": {
    "collapsed": true,
    "hidden": true
   },
   "outputs": [],
   "source": [
    "embedding_matrix = pre.create_embedding_matrix (\n",
    "    word_index, \n",
    "    embeddings_index, \n",
    "    max_words, \n",
    "    embedding_dim\n",
    ")"
   ]
  },
  {
   "cell_type": "code",
   "execution_count": 20,
   "metadata": {
    "hidden": true
   },
   "outputs": [
    {
     "data": {
      "text/plain": [
       "(20000, 100)"
      ]
     },
     "execution_count": 20,
     "metadata": {},
     "output_type": "execute_result"
    }
   ],
   "source": [
    "embedding_matrix.shape"
   ]
  },
  {
   "cell_type": "markdown",
   "metadata": {},
   "source": [
    "# Tabular Preprocess"
   ]
  },
  {
   "cell_type": "code",
   "execution_count": 66,
   "metadata": {},
   "outputs": [
    {
     "data": {
      "text/html": [
       "<div>\n",
       "<style scoped>\n",
       "    .dataframe tbody tr th:only-of-type {\n",
       "        vertical-align: middle;\n",
       "    }\n",
       "\n",
       "    .dataframe tbody tr th {\n",
       "        vertical-align: top;\n",
       "    }\n",
       "\n",
       "    .dataframe thead th {\n",
       "        text-align: right;\n",
       "    }\n",
       "</style>\n",
       "<table border=\"1\" class=\"dataframe\">\n",
       "  <thead>\n",
       "    <tr style=\"text-align: right;\">\n",
       "      <th></th>\n",
       "      <th>Type</th>\n",
       "      <th>Name</th>\n",
       "      <th>Age</th>\n",
       "      <th>Breed1</th>\n",
       "      <th>Breed2</th>\n",
       "      <th>Gender</th>\n",
       "      <th>Color1</th>\n",
       "      <th>Color2</th>\n",
       "      <th>Color3</th>\n",
       "      <th>MaturitySize</th>\n",
       "      <th>FurLength</th>\n",
       "      <th>Vaccinated</th>\n",
       "      <th>Dewormed</th>\n",
       "      <th>Sterilized</th>\n",
       "      <th>Health</th>\n",
       "      <th>Quantity</th>\n",
       "      <th>Fee</th>\n",
       "      <th>State</th>\n",
       "      <th>VideoAmt</th>\n",
       "      <th>PetID</th>\n",
       "      <th>PhotoAmt</th>\n",
       "    </tr>\n",
       "  </thead>\n",
       "  <tbody>\n",
       "    <tr>\n",
       "      <th>6786</th>\n",
       "      <td>Dog</td>\n",
       "      <td>Name</td>\n",
       "      <td>1</td>\n",
       "      <td>Mixed Breed</td>\n",
       "      <td>None</td>\n",
       "      <td>Mixed</td>\n",
       "      <td>Brown</td>\n",
       "      <td>White</td>\n",
       "      <td>None</td>\n",
       "      <td>Medium</td>\n",
       "      <td>Medium</td>\n",
       "      <td>No</td>\n",
       "      <td>No</td>\n",
       "      <td>No</td>\n",
       "      <td>Healthy</td>\n",
       "      <td>7</td>\n",
       "      <td>0</td>\n",
       "      <td>Selangor</td>\n",
       "      <td>0</td>\n",
       "      <td>2eb4fa594</td>\n",
       "      <td>5.0</td>\n",
       "    </tr>\n",
       "    <tr>\n",
       "      <th>9837</th>\n",
       "      <td>Dog</td>\n",
       "      <td>No_Name</td>\n",
       "      <td>2</td>\n",
       "      <td>Mixed Breed</td>\n",
       "      <td>Mixed Breed</td>\n",
       "      <td>Female</td>\n",
       "      <td>Brown</td>\n",
       "      <td>White</td>\n",
       "      <td>None</td>\n",
       "      <td>Medium</td>\n",
       "      <td>Medium</td>\n",
       "      <td>No</td>\n",
       "      <td>Yes</td>\n",
       "      <td>No</td>\n",
       "      <td>Healthy</td>\n",
       "      <td>1</td>\n",
       "      <td>0</td>\n",
       "      <td>Selangor</td>\n",
       "      <td>0</td>\n",
       "      <td>ce768b010</td>\n",
       "      <td>3.0</td>\n",
       "    </tr>\n",
       "    <tr>\n",
       "      <th>7688</th>\n",
       "      <td>Cat</td>\n",
       "      <td>Name</td>\n",
       "      <td>1</td>\n",
       "      <td>Domestic Short Hair</td>\n",
       "      <td>Domestic Short Hair</td>\n",
       "      <td>Mixed</td>\n",
       "      <td>Black</td>\n",
       "      <td>Yellow</td>\n",
       "      <td>White</td>\n",
       "      <td>Medium</td>\n",
       "      <td>Short</td>\n",
       "      <td>No</td>\n",
       "      <td>No</td>\n",
       "      <td>Not Sure</td>\n",
       "      <td>Healthy</td>\n",
       "      <td>3</td>\n",
       "      <td>0</td>\n",
       "      <td>Selangor</td>\n",
       "      <td>0</td>\n",
       "      <td>3d889fe46</td>\n",
       "      <td>2.0</td>\n",
       "    </tr>\n",
       "    <tr>\n",
       "      <th>6556</th>\n",
       "      <td>Dog</td>\n",
       "      <td>Name</td>\n",
       "      <td>2</td>\n",
       "      <td>German Shepherd Dog</td>\n",
       "      <td>Mixed Breed</td>\n",
       "      <td>Female</td>\n",
       "      <td>Black</td>\n",
       "      <td>Brown</td>\n",
       "      <td>None</td>\n",
       "      <td>Medium</td>\n",
       "      <td>Medium</td>\n",
       "      <td>No</td>\n",
       "      <td>No</td>\n",
       "      <td>No</td>\n",
       "      <td>Healthy</td>\n",
       "      <td>1</td>\n",
       "      <td>0</td>\n",
       "      <td>Selangor</td>\n",
       "      <td>0</td>\n",
       "      <td>6366dd2f9</td>\n",
       "      <td>1.0</td>\n",
       "    </tr>\n",
       "    <tr>\n",
       "      <th>11322</th>\n",
       "      <td>Dog</td>\n",
       "      <td>Name</td>\n",
       "      <td>2</td>\n",
       "      <td>Mixed Breed</td>\n",
       "      <td>None</td>\n",
       "      <td>Mixed</td>\n",
       "      <td>Brown</td>\n",
       "      <td>Yellow</td>\n",
       "      <td>White</td>\n",
       "      <td>Small</td>\n",
       "      <td>Short</td>\n",
       "      <td>Not Sure</td>\n",
       "      <td>Not Sure</td>\n",
       "      <td>Not Sure</td>\n",
       "      <td>Healthy</td>\n",
       "      <td>3</td>\n",
       "      <td>0</td>\n",
       "      <td>Perak</td>\n",
       "      <td>1</td>\n",
       "      <td>14bbc5876</td>\n",
       "      <td>3.0</td>\n",
       "    </tr>\n",
       "  </tbody>\n",
       "</table>\n",
       "</div>"
      ],
      "text/plain": [
       "      Type     Name  Age               Breed1               Breed2  Gender  \\\n",
       "6786   Dog     Name    1          Mixed Breed                 None   Mixed   \n",
       "9837   Dog  No_Name    2          Mixed Breed          Mixed Breed  Female   \n",
       "7688   Cat     Name    1  Domestic Short Hair  Domestic Short Hair   Mixed   \n",
       "6556   Dog     Name    2  German Shepherd Dog          Mixed Breed  Female   \n",
       "11322  Dog     Name    2          Mixed Breed                 None   Mixed   \n",
       "\n",
       "      Color1  Color2 Color3 MaturitySize FurLength Vaccinated  Dewormed  \\\n",
       "6786   Brown   White   None       Medium    Medium         No        No   \n",
       "9837   Brown   White   None       Medium    Medium         No       Yes   \n",
       "7688   Black  Yellow  White       Medium     Short         No        No   \n",
       "6556   Black   Brown   None       Medium    Medium         No        No   \n",
       "11322  Brown  Yellow  White        Small     Short   Not Sure  Not Sure   \n",
       "\n",
       "      Sterilized   Health  Quantity  Fee     State  VideoAmt      PetID  \\\n",
       "6786          No  Healthy         7    0  Selangor         0  2eb4fa594   \n",
       "9837          No  Healthy         1    0  Selangor         0  ce768b010   \n",
       "7688    Not Sure  Healthy         3    0  Selangor         0  3d889fe46   \n",
       "6556          No  Healthy         1    0  Selangor         0  6366dd2f9   \n",
       "11322   Not Sure  Healthy         3    0     Perak         1  14bbc5876   \n",
       "\n",
       "       PhotoAmt  \n",
       "6786        5.0  \n",
       "9837        3.0  \n",
       "7688        2.0  \n",
       "6556        1.0  \n",
       "11322       3.0  "
      ]
     },
     "execution_count": 66,
     "metadata": {},
     "output_type": "execute_result"
    }
   ],
   "source": [
    "train_X_cleaned.head()"
   ]
  },
  {
   "cell_type": "code",
   "execution_count": 161,
   "metadata": {},
   "outputs": [
    {
     "name": "stdout",
     "output_type": "stream",
     "text": [
      "converting Name                           size:  0.83\t->\t 0.11\n",
      "converting Breed1                         size:  0.94\t->\t 0.14\n",
      "converting Breed2                         size:  0.86\t->\t 0.12\n",
      "converting Color1                         size:  0.84\t->\t 0.11\n",
      "converting Color2                         size:  0.84\t->\t 0.11\n",
      "converting Color3                         size:  0.83\t->\t 0.11\n"
     ]
    },
    {
     "name": "stderr",
     "output_type": "stream",
     "text": [
      "/Users/jinli/anaconda3/lib/python3.6/site-packages/sklearn/preprocessing/data.py:625: DataConversionWarning: Data with input dtype int8, int16, float64 were all converted to float64 by StandardScaler.\n",
      "  return self.partial_fit(X, y)\n",
      "/Users/jinli/anaconda3/lib/python3.6/site-packages/sklearn/base.py:462: DataConversionWarning: Data with input dtype int8, int16, float64 were all converted to float64 by StandardScaler.\n",
      "  return self.fit(X, **fit_params).transform(X)\n"
     ]
    }
   ],
   "source": [
    "trans = pre.DataCleaning()\n",
    "train_X_cleaned = trans.fit_transform(X_train)\n",
    "test = train_X_cleaned.drop('PetID', axis=1)#.apply(lambda x: str(x))\n",
    "\n",
    "train_X_1hot, pipeline_1hot = pre.transform_df(\n",
    "    test,\n",
    "    cat_encode_type=\"one hot\"\n",
    ")"
   ]
  },
  {
   "cell_type": "code",
   "execution_count": 162,
   "metadata": {},
   "outputs": [
    {
     "data": {
      "text/plain": [
       "(11994, 364)"
      ]
     },
     "execution_count": 162,
     "metadata": {},
     "output_type": "execute_result"
    }
   ],
   "source": [
    "train_X_1hot.shape"
   ]
  },
  {
   "cell_type": "code",
   "execution_count": 163,
   "metadata": {},
   "outputs": [
    {
     "data": {
      "text/plain": [
       "ColumnTransformer(n_jobs=None, remainder='drop', sparse_threshold=0.3,\n",
       "         transformer_weights=None,\n",
       "         transformers=[('num', Pipeline(memory=None,\n",
       "     steps=[('std_scaler', StandardScaler(copy=True, with_mean=True, with_std=True))]), ['Age', 'Quantity', 'Fee', 'VideoAmt', 'PhotoAmt']), ('cat', OneHotEncoder(categorical_features=None, categories=None,\n",
       "       dtype=<class 'numpy.float64'>, handle_unkn... 'Color3', 'MaturitySize', 'FurLength', 'Vaccinated', 'Dewormed', 'Sterilized', 'Health', 'State'])])"
      ]
     },
     "execution_count": 163,
     "metadata": {},
     "output_type": "execute_result"
    }
   ],
   "source": [
    "pipeline_1hot"
   ]
  },
  {
   "cell_type": "code",
   "execution_count": null,
   "metadata": {},
   "outputs": [],
   "source": []
  },
  {
   "cell_type": "code",
   "execution_count": null,
   "metadata": {
    "collapsed": true
   },
   "outputs": [],
   "source": []
  }
 ],
 "metadata": {
  "kernelspec": {
   "display_name": "Python 3",
   "language": "python",
   "name": "python3"
  },
  "language_info": {
   "codemirror_mode": {
    "name": "ipython",
    "version": 3
   },
   "file_extension": ".py",
   "mimetype": "text/x-python",
   "name": "python",
   "nbconvert_exporter": "python",
   "pygments_lexer": "ipython3",
   "version": "3.6.3"
  },
  "toc": {
   "base_numbering": 1,
   "nav_menu": {},
   "number_sections": true,
   "sideBar": true,
   "skip_h1_title": false,
   "title_cell": "Table of Contents",
   "title_sidebar": "Contents",
   "toc_cell": false,
   "toc_position": {},
   "toc_section_display": true,
   "toc_window_display": false
  }
 },
 "nbformat": 4,
 "nbformat_minor": 2
}
